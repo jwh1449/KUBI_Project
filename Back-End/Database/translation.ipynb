{
  "nbformat": 4,
  "nbformat_minor": 0,
  "metadata": {
    "colab": {
      "provenance": []
    },
    "kernelspec": {
      "name": "python3",
      "display_name": "Python 3"
    },
    "language_info": {
      "name": "python"
    }
  },
  "cells": [
    {
      "cell_type": "code",
      "source": [
        "import pyodbc\n",
        "import pandas as pd\n",
        "import os\n",
        "from google.colab import files\n",
        "from dotenv import load_dotenv  # .env 파일로 환경변수 불러오기\n",
        "\n",
        "# 1. 환경 변수 불러오기\n",
        "load_dotenv()\n",
        "\n",
        "server = os.getenv('DB_SERVER')\n",
        "database = os.getenv('DB_NAME')\n",
        "username = os.getenv('DB_USER')\n",
        "password = os.getenv('DB_PASSWORD')\n",
        "driver = '{your driver}'\n",
        "conn_string = f'DRIVER={driver};SERVER={server};DATABASE={database};UID={username};PWD={password}'\n",
        "\n",
        "try:\n",
        "    conn = pyodbc.connect(conn_string)\n",
        "    cursor = conn.cursor()\n",
        "    print(\"✅ MSSQL 데이터베이스 연결 성공!\")\n",
        "except Exception as e:\n",
        "    print(f\"❌ 데이터베이스 연결 실패: {e}\")\n",
        "    raise\n",
        "\n",
        "# 2. CSV 파일 업로드\n",
        "uploaded = files.upload()\n",
        "file_name = list(uploaded.keys())[0]\n",
        "df = pd.read_csv(file_name)\n",
        "\n",
        "# 3. NaN 값을 None으로 변환\n",
        "df = df.where(pd.notnull(df), None)\n",
        "\n",
        "# 4. 번역 컬럼만 업데이트\n",
        "updated_rows = 0\n",
        "\n",
        "for index, row in df.iterrows():\n",
        "    try:\n",
        "        cursor.execute(\"\"\"\n",
        "            UPDATE notices\n",
        "            SET content_en = ?, content_zh = ?\n",
        "            WHERE notice_id = ?\n",
        "        \"\"\",\n",
        "        row['content_en'],\n",
        "        row['content_zh'],\n",
        "        int(row['notice_id']))\n",
        "        updated_rows += 1\n",
        "    except Exception as e:\n",
        "        print(f\"❌ 오류 발생 (row {index}, notice_id {row['notice_id']}): {e}\")\n",
        "\n",
        "# 5. 커밋 및 연결 종료\n",
        "conn.commit()\n",
        "cursor.close()\n",
        "conn.close()\n",
        "\n",
        "print(f\"✅ 총 {updated_rows}개의 공지사항 번역이 업데이트되었습니다.\")\n"
      ],
      "metadata": {
        "id": "d117oGGLFBAw"
      },
      "execution_count": null,
      "outputs": []
    }
  ]
}