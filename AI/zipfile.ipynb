{
 "cells": [
  {
   "cell_type": "code",
   "execution_count": 3,
   "id": "dddb07e0-6219-416c-9448-bcdf79c79832",
   "metadata": {},
   "outputs": [
    {
     "name": "stderr",
     "output_type": "stream",
     "text": [
      "압축 해제 중: 100%|█████████████████████████████████████████████████████████████████████| 5/5 [32:59<00:00, 395.98s/개]\n"
     ]
    }
   ],
   "source": [
    "import os\n",
    "import zipfile\n",
    "from tqdm import tqdm\n",
    "\n",
    "# 압축 파일이 있는 경로 (그리고 압축도 같은 경로에 해제)\n",
    "data_folder = 'D:\\한국어 음성\\한국어_음성_분야'\n",
    "\n",
    "# .zip 파일만 찾기\n",
    "zip_files = [f for f in os.listdir(data_folder) if f.endswith('.zip')]\n",
    "\n",
    "# 진행 표시하면서 압축 해제\n",
    "for zip_file in tqdm(zip_files, desc='압축 해제 중', unit='개'):\n",
    "    zip_path = os.path.join(data_folder, zip_file)\n",
    "    unzip_target = os.path.join(data_folder, zip_file.replace('.zip', ''))\n",
    "\n",
    "    # 이미 폴더가 있으면 스킵\n",
    "    if os.path.exists(unzip_target):\n",
    "        continue\n",
    "\n",
    "    with zipfile.ZipFile(zip_path, 'r') as zip_ref:\n",
    "        zip_ref.extractall(unzip_target)\n"
   ]
  },
  {
   "cell_type": "code",
   "execution_count": null,
   "id": "e995a88b-55c4-4e3a-9468-74382a514a96",
   "metadata": {},
   "outputs": [],
   "source": [
    "import os\n",
    "import zipfile\n",
    "from tqdm import tqdm\n",
    "\n",
    "def zip_folder(folder_path, output_zip_path):\n",
    "    # 전체 파일 목록 미리 수집\n",
    "    file_list = []\n",
    "    for root, dirs, files in os.walk(folder_path):\n",
    "        for file in files:\n",
    "            file_path = os.path.join(root, file)\n",
    "            arcname = os.path.relpath(file_path, start=folder_path)\n",
    "            file_list.append((file_path, arcname))\n",
    "\n",
    "    # tqdm으로 진행 상황 표시\n",
    "    with zipfile.ZipFile(output_zip_path, 'w', zipfile.ZIP_DEFLATED) as zipf:\n",
    "        for file_path, arcname in tqdm(file_list, desc=\" 압축 중\", unit=\"파일\"):\n",
    "            zipf.write(file_path, arcname)\n",
    "\n",
    "    print(f\" 압축 완료: {output_zip_path}\")\n"
   ]
  },
  {
   "cell_type": "code",
   "execution_count": null,
   "id": "4fc816b1-8743-4fc1-b856-d009128ade75",
   "metadata": {},
   "outputs": [
    {
     "name": "stderr",
     "output_type": "stream",
     "text": [
      " 압축 중: 100%|████████████████████████████████████████████████████████████| 126545/126545 [59:49<00:00, 35.25파일/s]\n"
     ]
    },
    {
     "name": "stdout",
     "output_type": "stream",
     "text": [
      " 압축 완료: D:\\한국어 음성\\output_wav.zip\n"
     ]
    },
    {
     "name": "stderr",
     "output_type": "stream",
     "text": [
      " 압축 중: 100%|████████████████████████████████████████████████████████████| 126545/126545 [23:34<00:00, 89.48파일/s]\n"
     ]
    },
    {
     "name": "stdout",
     "output_type": "stream",
     "text": [
      " 압축 완료: D:\\한국어 음성\\output_txt.zip\n"
     ]
    }
   ],
   "source": [
    "zip_folder(r\"D:\\한국어 음성\\output_wav\", r\"D:\\한국어 음성\\output_wav.zip\")\n",
    "zip_folder(r\"D:\\한국어 음성\\output_txt\", r\"D:\\한국어 음성\\output_txt.zip\")"
   ]
  }
 ],
 "metadata": {
  "kernelspec": {
   "display_name": "melotts",
   "language": "python",
   "name": "melotts"
  },
  "language_info": {
   "codemirror_mode": {
    "name": "ipython",
    "version": 3
   },
   "file_extension": ".py",
   "mimetype": "text/x-python",
   "name": "python",
   "nbconvert_exporter": "python",
   "pygments_lexer": "ipython3",
   "version": "3.10.16"
  }
 },
 "nbformat": 4,
 "nbformat_minor": 5
}
